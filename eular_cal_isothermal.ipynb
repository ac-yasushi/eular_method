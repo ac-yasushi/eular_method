{
 "cells": [
  {
   "cell_type": "code",
   "execution_count": 1,
   "metadata": {},
   "outputs": [],
   "source": [
    "import numpy as np\n",
    "import pylab as plt\n",
    "import math"
   ]
  },
  {
   "cell_type": "code",
   "execution_count": 2,
   "metadata": {},
   "outputs": [],
   "source": [
    "#パラメーターを入れよう\n",
    "#原料\n",
    "W_a=500 #kg\n",
    "ro_a=900 #kg/m3\n",
    "D=0.8 #m\n",
    "T_wall=613 #K\n",
    "#頻度因子\n",
    "ko=3.228*10**13 #1/s\n",
    "E=186.2*10**3 #J\n",
    "H_reaction=-62760 #J/mol\n",
    "cpm_ave=2.51*10**3 #J/kg/K\n",
    "M_a=0.385 #kg/mol\n",
    "thermo_diff=532 #J/s/m2/K\n",
    "\n",
    "#気体定数\n",
    "R=8.314"
   ]
  },
  {
   "cell_type": "code",
   "execution_count": 3,
   "metadata": {},
   "outputs": [
    {
     "name": "stdout",
     "output_type": "stream",
     "text": [
      "1.105242660360384 3.2804326023521435 2337.6623376623374\n"
     ]
    }
   ],
   "source": [
    "#BR(batch reacter)高さ\n",
    "height=W_a/ro_a*4/math.pi/D**2 #m\n",
    "#伝熱面積\n",
    "A_diff=math.pi*D*height+math.pi*D*D/4 #m2\n",
    "#初濃度\n",
    "C_a0=ro_a/M_a #mol/m3\n",
    "\n",
    "print(height, A_diff, C_a0)"
   ]
  },
  {
   "cell_type": "code",
   "execution_count": 4,
   "metadata": {},
   "outputs": [
    {
     "name": "stdout",
     "output_type": "stream",
     "text": [
      "19988\n"
     ]
    }
   ],
   "source": [
    "#微分方程式\n",
    "#設計方程式\n",
    "#func_mat\n",
    "#熱収支\n",
    "#func_heat\n",
    "\n",
    "#初期温度と反応率\n",
    "Temp=613 #K\n",
    "x=0\n",
    "t=0\n",
    "\n",
    "#停止条件\n",
    "x_end=0.95\n",
    "\n",
    "#ステップ\n",
    "step=0.1\n",
    "\n",
    "#出力用の配列を用意\n",
    "t_array=np.array([t])\n",
    "x_array=np.array([x])\n",
    "Temp_array=np.array([Temp])\n",
    "\n",
    "#計算回数\n",
    "n=0\n",
    "\n",
    "while(x<x_end):\n",
    "    func_mat=ko*math.exp(-E/R/Temp)*(1-x)\n",
    "    func_heat=(T_wall-Temp)*A_diff*thermo_diff/cpm_ave/W_a\\\n",
    "                +H_reaction/cpm_ave/ro_a*ko*math.exp(-E/R/Temp)*C_a0*(1-x)\n",
    "\n",
    "    t+=step\n",
    "    x+=func_mat*step\n",
    "    Temp=Temp+func_heat*step\n",
    "\n",
    "    x_array=np.append(x_array,[x])\n",
    "    t_array=np.append(t_array,[t])\n",
    "    Temp_array=np.append(Temp_array,[Temp])\n",
    "\n",
    "    n+=1\n",
    "\n",
    "print(n)"
   ]
  },
  {
   "cell_type": "markdown",
   "metadata": {},
   "source": [
    "## 613Kの等温反応の場合と比べてみる"
   ]
  },
  {
   "cell_type": "code",
   "execution_count": 5,
   "metadata": {},
   "outputs": [
    {
     "name": "stdout",
     "output_type": "stream",
     "text": [
      "6831\n"
     ]
    }
   ],
   "source": [
    "#微分方程式\n",
    "#設計方程式\n",
    "#func_mat\n",
    "\n",
    "#熱収支を無視して613Kでの設計方程式を解く\n",
    "\n",
    "#初期温度と反応率\n",
    "Temp=613 #K\n",
    "x=0\n",
    "t=0\n",
    "\n",
    "#停止条件\n",
    "x_end=0.95\n",
    "\n",
    "#ステップ\n",
    "step=0.1\n",
    "\n",
    "#出力用の配列を用意\n",
    "t_iso_array=np.array([t])\n",
    "x_iso_array=np.array([x])\n",
    "\n",
    "#計算回数\n",
    "n=0\n",
    "\n",
    "while(x<x_end):\n",
    "    func_mat=ko*math.exp(-E/R/Temp)*(1-x)\n",
    "\n",
    "    t+=step\n",
    "    x+=func_mat*step\n",
    "\n",
    "    x_iso_array=np.append(x_iso_array,[x])\n",
    "    t_iso_array=np.append(t_iso_array,[t])\n",
    "\n",
    "    n+=1\n",
    "\n",
    "print(n)"
   ]
  },
  {
   "cell_type": "code",
   "execution_count": 6,
   "metadata": {},
   "outputs": [
    {
     "data": {
      "image/png": "[encoded data removed]",
      "text/plain": [
       "<Figure size 600x300 with 1 Axes>"
      ]
     },
     "metadata": {},
     "output_type": "display_data"
    }
   ],
   "source": [
    "plt.figure(figsize=(6,3),dpi=100,facecolor='w', edgecolor='k')\n",
    "plt.axis([0,max(t_array),0,1])\n",
    "plt.plot(t_array, x_array)\n",
    "plt.plot(t_iso_array, x_iso_array)\n",
    "plt.show()"
   ]
  },
  {
   "cell_type": "markdown",
   "metadata": {},
   "source": [
    "613Kでの等温反応では600s程度で反応が終了することが分かる。  \n",
    "反応の吸熱を加味しないと計算結果を小さく見積もることになる。"
   ]
  },
  {
   "cell_type": "markdown",
   "metadata": {},
   "source": [
    "---\n",
    "# 513Kで同じことをやってみる"
   ]
  },
  {
   "cell_type": "code",
   "execution_count": 7,
   "metadata": {},
   "outputs": [],
   "source": [
    "T_wall=513 #K"
   ]
  },
  {
   "cell_type": "code",
   "execution_count": 8,
   "metadata": {},
   "outputs": [
    {
     "name": "stdout",
     "output_type": "stream",
     "text": [
      "8499\n"
     ]
    }
   ],
   "source": [
    "#微分方程式\n",
    "#設計方程式\n",
    "#func_mat\n",
    "#熱収支\n",
    "#func_heat\n",
    "\n",
    "#初期温度と反応率\n",
    "Temp=513 #K\n",
    "x=0\n",
    "t=0\n",
    "\n",
    "#停止条件\n",
    "x_end=0.95\n",
    "\n",
    "#ステップ\n",
    "step=100\n",
    "\n",
    "#出力用の配列を用意\n",
    "t_513_array=np.array([t])\n",
    "x_513_array=np.array([x])\n",
    "Temp_513_array=np.array([Temp])\n",
    "\n",
    "#計算回数\n",
    "n=0\n",
    "\n",
    "while(x<x_end):\n",
    "    func_mat=ko*math.exp(-E/R/Temp)*(1-x)\n",
    "    func_heat=(T_wall-Temp)*A_diff*thermo_diff/cpm_ave/W_a\\\n",
    "                +H_reaction/cpm_ave/ro_a*ko*math.exp(-E/R/Temp)*C_a0*(1-x)\n",
    "\n",
    "    t+=step\n",
    "    x+=func_mat*step\n",
    "    Temp=Temp+func_heat*step\n",
    "\n",
    "    x_513_array=np.append(x_513_array,[x])\n",
    "    t_513_array=np.append(t_513_array,[t])\n",
    "    Temp_513_array=np.append(Temp_513_array,[Temp])\n",
    "\n",
    "    n+=1\n",
    "\n",
    "print(n)"
   ]
  },
  {
   "cell_type": "code",
   "execution_count": 9,
   "metadata": {},
   "outputs": [
    {
     "data": {
      "image/png": "[encoded data removed]",
      "text/plain": [
       "<Figure size 600x300 with 1 Axes>"
      ]
     },
     "metadata": {},
     "output_type": "display_data"
    }
   ],
   "source": [
    "plt.figure(figsize=(6,3),dpi=100,facecolor='w', edgecolor='k')\n",
    "plt.axis([0,max(t_array),500,520])\n",
    "plt.plot(t_513_array, Temp_513_array)\n",
    "plt.show()"
   ]
  },
  {
   "cell_type": "markdown",
   "metadata": {},
   "source": [
    "温度変化を見るとほとんど一定の温度を取っていることが分かる"
   ]
  },
  {
   "cell_type": "code",
   "execution_count": 10,
   "metadata": {},
   "outputs": [
    {
     "name": "stdout",
     "output_type": "stream",
     "text": [
      "8461\n"
     ]
    }
   ],
   "source": [
    "#微分方程式\n",
    "#設計方程式\n",
    "#func_mat\n",
    "\n",
    "#熱収支を無視して613Kでの設計方程式を解く\n",
    "\n",
    "#初期温度と反応率\n",
    "Temp=513 #K\n",
    "x=0\n",
    "t=0\n",
    "\n",
    "#停止条件\n",
    "x_end=0.95\n",
    "\n",
    "#ステップ\n",
    "step=100\n",
    "\n",
    "#出力用の配列を用意\n",
    "t_513_iso_array=np.array([t])\n",
    "x_513_iso_array=np.array([x])\n",
    "\n",
    "#計算回数\n",
    "n=0\n",
    "\n",
    "while(x<x_end):\n",
    "    func_mat=ko*math.exp(-E/R/Temp)*(1-x)\n",
    "\n",
    "    t+=step\n",
    "    x+=func_mat*step\n",
    "\n",
    "    x_513_iso_array=np.append(x_513_iso_array,[x])\n",
    "    t_513_iso_array=np.append(t_513_iso_array,[t])\n",
    "\n",
    "    n+=1\n",
    "\n",
    "print(n)"
   ]
  },
  {
   "cell_type": "code",
   "execution_count": 13,
   "metadata": {},
   "outputs": [
    {
     "data": {
      "image/png": "[encoded data removed]",
      "text/plain": [
       "<Figure size 600x300 with 1 Axes>"
      ]
     },
     "metadata": {},
     "output_type": "display_data"
    }
   ],
   "source": [
    "plt.figure(figsize=(6,3),dpi=100,facecolor='w', edgecolor='k')\n",
    "plt.axis([0,max(t_513_array),0,1])\n",
    "plt.plot(t_513_array, x_513_array)\n",
    "plt.plot(t_513_iso_array, x_513_iso_array)\n",
    "plt.show()"
   ]
  },
  {
   "cell_type": "markdown",
   "metadata": {},
   "source": [
    "反応熱に対して伝熱速度が大きい場合、温度変化が小さくなるため等温反応とみなせる。反応速度は温度に対して敏感に変化する"
   ]
  },
  {
   "cell_type": "code",
   "execution_count": null,
   "metadata": {},
   "outputs": [],
   "source": []
  }
 ],
 "metadata": {
  "kernelspec": {
   "display_name": "Python 3",
   "language": "python",
   "name": "python3"
  },
  "language_info": {
   "codemirror_mode": {
    "name": "ipython",
    "version": 3
   },
   "file_extension": ".py",
   "mimetype": "text/x-python",
   "name": "python",
   "nbconvert_exporter": "python",
   "pygments_lexer": "ipython3",
   "version": "3.6.7"
  }
 },
 "nbformat": 4,
 "nbformat_minor": 2
}
